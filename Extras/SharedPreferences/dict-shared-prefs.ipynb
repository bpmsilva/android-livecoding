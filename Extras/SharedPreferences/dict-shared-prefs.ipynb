{
 "cells": [
  {
   "cell_type": "markdown",
   "id": "2bc2113d-c5aa-4858-a0ae-2c381d9b3a33",
   "metadata": {},
   "source": [
    "# Dicionário em Python e SharedPreferences em Java"
   ]
  },
  {
   "cell_type": "markdown",
   "id": "7284922f",
   "metadata": {},
   "source": [
    "## Criar um dicionário"
   ]
  },
  {
   "cell_type": "code",
   "execution_count": null,
   "id": "f11c2141-4f93-4ec9-bf35-5288750c18a7",
   "metadata": {},
   "outputs": [],
   "source": [
    "dicionario = {} # SharedPreferences prefs = getSharedPreferences(PREFS_NAME, MODE_PRIVATE);"
   ]
  },
  {
   "cell_type": "markdown",
   "id": "00793d18-65ff-4c58-a884-7f019eee6c40",
   "metadata": {},
   "source": [
    "## Acessar um elemento"
   ]
  },
  {
   "cell_type": "markdown",
   "id": "3bd79009",
   "metadata": {},
   "source": [
    "### Exemplo errado"
   ]
  },
  {
   "cell_type": "code",
   "execution_count": null,
   "id": "ce18f4a8-fb2f-4c4b-9862-adc556898d7c",
   "metadata": {},
   "outputs": [],
   "source": [
    "dicionario[\"valor\"] # erro"
   ]
  },
  {
   "cell_type": "markdown",
   "id": "ddd24623",
   "metadata": {},
   "source": [
    "### Primeira solução (Não recomendada)"
   ]
  },
  {
   "cell_type": "code",
   "execution_count": null,
   "id": "c46c421e-d4bc-4fc6-869a-828b3ac75eef",
   "metadata": {},
   "outputs": [],
   "source": [
    "if \"valor\" in dicionario:\n",
    "    valor = dicionario[\"valor\"]\n",
    "else:\n",
    "    valor = 0"
   ]
  },
  {
   "cell_type": "markdown",
   "id": "8e2c4d0f",
   "metadata": {},
   "source": [
    "### Segunda solução"
   ]
  },
  {
   "cell_type": "code",
   "execution_count": null,
   "id": "afcaca09-ac8e-46fe-aa6f-0102c2ba4244",
   "metadata": {},
   "outputs": [],
   "source": [
    "valor = dicionario.get(\"valor\", 0) # SharedPreferences.Editor editor = prefs.edit();"
   ]
  },
  {
   "cell_type": "markdown",
   "id": "8aed5f8e",
   "metadata": {},
   "source": [
    "## Atualizando o valor"
   ]
  },
  {
   "cell_type": "code",
   "execution_count": null,
   "id": "b3f90ce5-1d98-4ce3-9f1f-9715a72e2f09",
   "metadata": {},
   "outputs": [],
   "source": [
    "valor = dicionario.get(\"valor\", 0) # SharedPreferences.Editor editor = prefs.edit();\n",
    "valor += 1                         # editor.putInt(\"valor\", 10);\n",
    "dicionario[\"valor\"] = valor        # editor.putInt(\"valor\", dicionario.get(\"valor\", 0) + 1);\n",
    "                                   # editor.apply();\n",
    "print(valor)                       # Log.d(TAG, \"Valor atualizado: \" + dicionario.get(\"valor\", 0));"
   ]
  },
  {
   "cell_type": "code",
   "execution_count": null,
   "id": "a6880cde-810c-463e-a96d-2c452c3352a0",
   "metadata": {},
   "outputs": [],
   "source": []
  }
 ],
 "metadata": {
  "kernelspec": {
   "display_name": "Python 3 (ipykernel)",
   "language": "python",
   "name": "python3"
  },
  "language_info": {
   "codemirror_mode": {
    "name": "ipython",
    "version": 3
   },
   "file_extension": ".py",
   "mimetype": "text/x-python",
   "name": "python",
   "nbconvert_exporter": "python",
   "pygments_lexer": "ipython3",
   "version": "3.8.10"
  }
 },
 "nbformat": 4,
 "nbformat_minor": 5
}
